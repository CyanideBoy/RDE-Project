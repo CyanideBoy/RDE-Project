{
  "nbformat": 4,
  "nbformat_minor": 0,
  "metadata": {
    "colab": {
      "name": "nlptest.ipynb",
      "provenance": [],
      "machine_shape": "hm"
    },
    "kernelspec": {
      "name": "python3",
      "display_name": "Python 3"
    },
    "accelerator": "GPU"
  },
  "cells": [
    {
      "cell_type": "code",
      "metadata": {
        "id": "lc9ghBMNkS3U",
        "colab_type": "code",
        "colab": {
          "base_uri": "https://localhost:8080/",
          "height": 214
        },
        "outputId": "4e86ce50-5c89-405f-912f-09c300853573"
      },
      "source": [
        "!wget http://qwone.com/%7Ejason/20Newsgroups/20news-bydate.tar.gz"
      ],
      "execution_count": 1,
      "outputs": [
        {
          "output_type": "stream",
          "text": [
            "--2020-04-22 10:13:32--  http://qwone.com/%7Ejason/20Newsgroups/20news-bydate.tar.gz\n",
            "Resolving qwone.com (qwone.com)... 108.20.201.166\n",
            "Connecting to qwone.com (qwone.com)|108.20.201.166|:80... connected.\n",
            "HTTP request sent, awaiting response... 200 OK\n",
            "Length: 14464277 (14M) [application/x-gzip]\n",
            "Saving to: ‘20news-bydate.tar.gz’\n",
            "\n",
            "20news-bydate.tar.g 100%[===================>]  13.79M  3.75MB/s    in 3.7s    \n",
            "\n",
            "2020-04-22 10:13:36 (3.75 MB/s) - ‘20news-bydate.tar.gz’ saved [14464277/14464277]\n",
            "\n"
          ],
          "name": "stdout"
        }
      ]
    },
    {
      "cell_type": "code",
      "metadata": {
        "id": "334WyBiLlLR7",
        "colab_type": "code",
        "colab": {
          "base_uri": "https://localhost:8080/",
          "height": 214
        },
        "outputId": "7d0849e8-2177-4b98-a14b-390436583149"
      },
      "source": [
        "!wget https://s3.amazonaws.com/dl4j-distribution/GoogleNews-vectors-negative300.bin.gz"
      ],
      "execution_count": 2,
      "outputs": [
        {
          "output_type": "stream",
          "text": [
            "--2020-04-22 10:13:41--  https://s3.amazonaws.com/dl4j-distribution/GoogleNews-vectors-negative300.bin.gz\n",
            "Resolving s3.amazonaws.com (s3.amazonaws.com)... 52.216.108.221\n",
            "Connecting to s3.amazonaws.com (s3.amazonaws.com)|52.216.108.221|:443... connected.\n",
            "HTTP request sent, awaiting response... 200 OK\n",
            "Length: 1647046227 (1.5G) [application/x-gzip]\n",
            "Saving to: ‘GoogleNews-vectors-negative300.bin.gz’\n",
            "\n",
            "GoogleNews-vectors- 100%[===================>]   1.53G  17.0MB/s    in 97s     \n",
            "\n",
            "2020-04-22 10:15:19 (16.1 MB/s) - ‘GoogleNews-vectors-negative300.bin.gz’ saved [1647046227/1647046227]\n",
            "\n"
          ],
          "name": "stdout"
        }
      ]
    },
    {
      "cell_type": "code",
      "metadata": {
        "id": "HKK_u8aElOcx",
        "colab_type": "code",
        "colab": {}
      },
      "source": [
        "!tar -xzf 20news-bydate.tar.gz"
      ],
      "execution_count": 0,
      "outputs": []
    },
    {
      "cell_type": "code",
      "metadata": {
        "id": "OgizqhkGlVJj",
        "colab_type": "code",
        "colab": {}
      },
      "source": [
        "!gunzip GoogleNews-vectors-negative300.bin.gz"
      ],
      "execution_count": 0,
      "outputs": []
    },
    {
      "cell_type": "code",
      "metadata": {
        "id": "n9WaE8pdqEcm",
        "colab_type": "code",
        "colab": {
          "base_uri": "https://localhost:8080/",
          "height": 502
        },
        "outputId": "21ad7428-5a3d-4efd-e6b2-241b39c85a76"
      },
      "source": [
        "!python main.py"
      ],
      "execution_count": 6,
      "outputs": [
        {
          "output_type": "stream",
          "text": [
            "/usr/local/lib/python3.6/dist-packages/smart_open/smart_open_lib.py:253: UserWarning: This function is deprecated, use smart_open.open instead. See the migration notes for details: https://github.com/RaRe-Technologies/smart_open/blob/master/README.rst#migrating-to-the-new-open-function\n",
            "  'See the migration notes for details: %s' % _MIGRATION_NOTES_URL\n",
            "tcmalloc: large alloc 3600007168 bytes == 0x50b6000 @  0x7f6919a1d001 0x7f69172bf765 0x7f6917323dc0 0x7f6917325c5f 0x7f69173bc238 0x50ac25 0x50d390 0x508245 0x50a080 0x50aa7d 0x50d390 0x508245 0x50a080 0x50aa7d 0x50d390 0x509455 0x595311 0x54a6ff 0x551b81 0x5aa6ec 0x50abb3 0x50c5b9 0x508245 0x5167b9 0x5678ee 0x51171e 0x508245 0x50a080 0x50aa7d 0x50c5b9 0x509d48\n",
            "[nltk_data] Downloading package punkt to /root/nltk_data...\n",
            "[nltk_data]   Unzipping tokenizers/punkt.zip.\n",
            "['alt.atheism', 'comp.graphics', 'comp.os.ms-windows.misc', 'comp.sys.ibm.pc.hardware', 'comp.sys.mac.hardware', 'comp.windows.x', 'misc.forsale', 'rec.autos', 'rec.motorcycles', 'rec.sport.baseball', 'rec.sport.hockey', 'sci.crypt', 'sci.electronics', 'sci.med', 'sci.space', 'soc.religion.christian', 'talk.politics.guns', 'talk.politics.mideast', 'talk.politics.misc', 'talk.religion.misc']\n",
            "Printing Number of Documents Found\n",
            "11314\n",
            "Running on cuda:0\n",
            "Building model..\n",
            "Model Built.\n",
            "Initializing optimizer and scheduler..\n",
            "Optimizer and scheduler initialized.\n",
            "Printing Parameters\n",
            "conv1.weight\n",
            "conv1.bias\n",
            "fc1.weight\n",
            "fc1.bias\n",
            "---Printing Parameters Finished!---\n",
            "epoch [1/11], loss:1.8647722, train acc:47.9673, val loss:0.8337494, val acc:74.0000 in 0h 0m 48s\n",
            "epoch [2/11], loss:0.9142819, train acc:70.2497, val loss:0.6690332, val acc:80.0000 in 0h 0m 47s\n",
            "epoch [3/11], loss:0.6417925, train acc:77.6624, val loss:0.6286540, val acc:81.0000 in 0h 0m 47s\n",
            "epoch [4/11], loss:0.5033437, train acc:81.1865, val loss:0.5548354, val acc:83.0000 in 0h 0m 46s\n",
            "epoch [5/11], loss:0.4147812, train acc:83.2855, val loss:0.5376138, val acc:83.0000 in 0h 0m 46s\n",
            "Traceback (most recent call last):\n",
            "\n"
          ],
          "name": "stdout"
        }
      ]
    },
    {
      "cell_type": "code",
      "metadata": {
        "id": "g70fSl4pqUlO",
        "colab_type": "code",
        "colab": {
          "base_uri": "https://localhost:8080/",
          "height": 162
        },
        "outputId": "3c2fbe99-1c43-4f62-cae8-a195520708e0"
      },
      "source": [
        "!pip install torch_optimizer"
      ],
      "execution_count": 5,
      "outputs": [
        {
          "output_type": "stream",
          "text": [
            "Collecting torch_optimizer\n",
            "  Downloading https://files.pythonhosted.org/packages/38/8f/8c9fdfb199a8f7e06a16c2315d076aa1505057f2496b7a7f2c73ece66215/torch_optimizer-0.0.1a11-py3-none-any.whl\n",
            "Requirement already satisfied: torch>=1.1.0 in /usr/local/lib/python3.6/dist-packages (from torch_optimizer) (1.4.0)\n",
            "Collecting pytorch-ranger>=0.1.1\n",
            "  Downloading https://files.pythonhosted.org/packages/0d/70/12256257d861bbc3e176130d25be1de085ce7a9e60594064888a950f2154/pytorch_ranger-0.1.1-py3-none-any.whl\n",
            "Installing collected packages: pytorch-ranger, torch-optimizer\n",
            "Successfully installed pytorch-ranger-0.1.1 torch-optimizer-0.0.1a11\n"
          ],
          "name": "stdout"
        }
      ]
    },
    {
      "cell_type": "code",
      "metadata": {
        "id": "yQgL3cUYqgFG",
        "colab_type": "code",
        "colab": {
          "base_uri": "https://localhost:8080/",
          "height": 198
        },
        "outputId": "bd51e572-80d9-4368-d2e2-6c82e18efce6"
      },
      "source": [
        "!python tester.py"
      ],
      "execution_count": 8,
      "outputs": [
        {
          "output_type": "stream",
          "text": [
            "/usr/local/lib/python3.6/dist-packages/smart_open/smart_open_lib.py:253: UserWarning: This function is deprecated, use smart_open.open instead. See the migration notes for details: https://github.com/RaRe-Technologies/smart_open/blob/master/README.rst#migrating-to-the-new-open-function\n",
            "  'See the migration notes for details: %s' % _MIGRATION_NOTES_URL\n",
            "tcmalloc: large alloc 3600007168 bytes == 0x614c000 @  0x7fe35a828001 0x7fe3580ca765 0x7fe35812edc0 0x7fe358130c5f 0x7fe3581c7238 0x50ac25 0x50d390 0x508245 0x50a080 0x50aa7d 0x50d390 0x508245 0x50a080 0x50aa7d 0x50d390 0x509455 0x595311 0x54a6ff 0x551b81 0x5aa6ec 0x50abb3 0x50c5b9 0x508245 0x5167b9 0x5678ee 0x51171e 0x508245 0x50a080 0x50aa7d 0x50c5b9 0x509d48\n",
            "[nltk_data] Downloading package punkt to /root/nltk_data...\n",
            "[nltk_data]   Package punkt is already up-to-date!\n",
            "Running on cuda:0\n",
            "Building model..\n",
            "Model Built.\n",
            "Test Accuracy: 76.18%\n"
          ],
          "name": "stdout"
        }
      ]
    },
    {
      "cell_type": "code",
      "metadata": {
        "id": "OHYAVznYElOp",
        "colab_type": "code",
        "colab": {}
      },
      "source": [
        ""
      ],
      "execution_count": 0,
      "outputs": []
    }
  ]
}
