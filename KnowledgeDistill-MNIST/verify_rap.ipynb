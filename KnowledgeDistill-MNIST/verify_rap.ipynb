{
 "cells": [
  {
   "cell_type": "code",
   "execution_count": 71,
   "metadata": {},
   "outputs": [],
   "source": [
    "import numpy as np\n",
    "import torch\n",
    "import torchvision.transforms as transforms\n",
    "import torchvision.datasets as datasets\n",
    "from PIL import Image\n",
    "import torch.backends.cudnn as cudnn\n",
    "from model import TeacherNet, StudentNet\n",
    "import matplotlib.cm\n",
    "from matplotlib.cm import ScalarMappable\n",
    "import os"
   ]
  },
  {
   "cell_type": "code",
   "execution_count": 72,
   "metadata": {},
   "outputs": [],
   "source": [
    "def enlarge_image(img, scaling = 3):\n",
    "    if scaling < 1 or not isinstance(scaling,int):\n",
    "        print ('scaling factor needs to be an int >= 1')\n",
    "\n",
    "    if len(img.shape) == 2:\n",
    "        H,W = img.shape\n",
    "        out = np.zeros((scaling*H, scaling*W))\n",
    "        for h in range(H):\n",
    "            fh = scaling*h\n",
    "            for w in range(W):\n",
    "                fw = scaling*w\n",
    "                out[fh:fh+scaling, fw:fw+scaling] = img[h,w]\n",
    "    elif len(img.shape) == 3:\n",
    "        H,W,D = img.shape\n",
    "        out = np.zeros((scaling*H, scaling*W,D))\n",
    "        for h in range(H):\n",
    "            fh = scaling*h\n",
    "            for w in range(W):\n",
    "                fw = scaling*w\n",
    "                out[fh:fh+scaling, fw:fw+scaling,:] = img[h,w,:]\n",
    "    return out\n",
    "def hm_to_rgb(R, scaling = 10, cmap = 'bwr', normalize = True):\n",
    "    cmap = eval('matplotlib.cm.{}'.format(cmap))\n",
    "    if normalize:\n",
    "        R = R / np.max(np.abs(R)) # normalize to [-1,1] wrt to max relevance magnitude\n",
    "        R = (R + 1.)/2. # shift/normalize to [0,1] for color mapping\n",
    "    R = R\n",
    "    R = enlarge_image(R, scaling)\n",
    "    rgb = cmap(R.flatten())[...,0:3].reshape([R.shape[0],R.shape[1],3])\n",
    "    return rgb\n",
    "\n",
    "def visualize(relevances,name):\n",
    "    # visualize the relevance\n",
    "    n = len(relevances)\n",
    "    heatmap = relevances.reshape([n, 28, 28, 1])\n",
    "    heatmaps = []\n",
    "    for h, heat in enumerate(heatmap):\n",
    "        maps = hm_to_rgb(heat, scaling=10, cmap = 'seismic')\n",
    "        heatmaps.append(maps)\n",
    "        im = Image.fromarray((maps*255).astype(np.uint8))\n",
    "        im.save(name+'.png')\n",
    "    \n",
    "def visualize_inp(inp,name):\n",
    "    heatmap = inp.reshape([28, 28])\n",
    "    #print(np.min(heatmap))\n",
    "    \n",
    "    heatmap = heatmap/ np.max(np.abs(heatmap))\n",
    "    heatmap = (heatmap + 1)/2\n",
    "    heatmap = enlarge_image(heatmap, 10)\n",
    "    \n",
    "    im = Image.fromarray((heatmap*255).astype(np.uint8))\n",
    "    im.save(name+'.png')\n",
    "\n",
    "def compute_pred(output):\n",
    "    pred = output.data.max(1, keepdim=True)[1]  # get the index of the max log-probability\n",
    "    print('Pred cls : '+str(pred))\n",
    "    T = pred.squeeze().cpu().numpy()\n",
    "    T = np.expand_dims(T, 0)\n",
    "    T = (T[:, np.newaxis] == np.arange(10)) * 1.0\n",
    "    T = torch.from_numpy(T).type(torch.FloatTensor)\n",
    "    T.requires_grad = True\n",
    "    Tt = T.cuda()\n",
    "    #print(Tt)\n",
    "    return Tt"
   ]
  },
  {
   "cell_type": "code",
   "execution_count": 73,
   "metadata": {},
   "outputs": [],
   "source": [
    "os.environ['CUDA_VISIBLE_DEVICES'] = '3'    # set visible devices depending on system configuration\n",
    "device = torch.device('cuda:0')"
   ]
  },
  {
   "cell_type": "code",
   "execution_count": 74,
   "metadata": {},
   "outputs": [],
   "source": [
    "transform_test = transforms.Compose([transforms.ToTensor(),transforms.Normalize([0.5], [0.5])])\n",
    "\n",
    "test_dataset = datasets.MNIST(root='./MNIST_dataset/', train=False, \n",
    "                                            download=True, transform=transform_test)\n"
   ]
  },
  {
   "cell_type": "code",
   "execution_count": 80,
   "metadata": {},
   "outputs": [
    {
     "data": {
      "text/plain": [
       "StudentNet(\n",
       "  (fc1): Linear(in_features=784, out_features=800, bias=True)\n",
       "  (fc2): Linear(in_features=800, out_features=10, bias=True)\n",
       "  (relu): ReLU(inplace)\n",
       "  (d_in): Dropout(p=0)\n",
       "  (d_hidden): Dropout(p=0)\n",
       ")"
      ]
     },
     "execution_count": 80,
     "metadata": {},
     "output_type": "execute_result"
    }
   ],
   "source": [
    "model = StudentNet()\n",
    "model_file = 'checkpoints_student2/T=1, alpha=0.0, dropout_hidden=0.0, dropout_input=0.0, lr=0.001, lr_decay=0.95, weight_decay=0_final.tar'\n",
    "checkpoint = torch.load(model_file, map_location=lambda storage, loc: storage)\n",
    "state_dict = checkpoint['model_state_dict']\n",
    "model.load_state_dict(state_dict)\n",
    "model.eval()\n",
    "device = torch.device('cuda:0')\n",
    "model.to(device)"
   ]
  },
  {
   "cell_type": "code",
   "execution_count": 81,
   "metadata": {},
   "outputs": [
    {
     "name": "stdout",
     "output_type": "stream",
     "text": [
      "Original class  4\n",
      "Pred cls : tensor([[4]], device='cuda:0')\n",
      "Done\n"
     ]
    }
   ],
   "source": [
    "pp = 300\n",
    "input = test_dataset[pp][0].to(device)\n",
    "print('Original class ',test_dataset[pp][1])\n",
    "input.requires_grad = True\n",
    "\n",
    "output = model(input.reshape(1,1,28,28))\n",
    "T = compute_pred(output)\n",
    "\n",
    "#T[0,1] = 1\n",
    "#T[0,6] = 0\n",
    "#print(T)\n",
    "#print(output)\n",
    "\n",
    "#Res = model.relprop(R = output * T, alpha= 1)#.sum(dim=1, keepdim=True)\n",
    "#heatmap = Res.detach().cpu().numpy()\n",
    "#visualize(heatmap.reshape([1, 28, 28, 1]), 'output_lrp')\n",
    "\n",
    "\n",
    "RAP = model.RAP_relprop(R=T)\n",
    "Res = (RAP)#.sum(dim=1, keepdim=True)\n",
    "Res = Res.data.cpu().numpy()\n",
    "visualize(Res.reshape([1, 28, 28, 1]), 'output_rap')\n",
    "\n",
    "\n",
    "visualize_inp(input.detach().cpu().numpy(),'input')\n",
    "print('Done')"
   ]
  },
  {
   "cell_type": "code",
   "execution_count": 82,
   "metadata": {},
   "outputs": [],
   "source": [
    "import matplotlib.pyplot as plt\n",
    "import innvestigate.utils.visualizations as ivis\n",
    "\n",
    "def plot_image(grid, dpi=28):\n",
    "    figsize = (4,4)\n",
    "    plt.clf()\n",
    "    plt.figure(figsize=figsize)\n",
    "    #ax = plt.subplot2grid(shape=[1,1], loc=[1, 0])\n",
    "    grid = ivis.heatmap(grid)\n",
    "    print(grid.shape)\n",
    "    plt.imshow(grid, interpolation='none')\n",
    "    \n",
    "    plt.show()"
   ]
  },
  {
   "cell_type": "code",
   "execution_count": 83,
   "metadata": {},
   "outputs": [
    {
     "name": "stdout",
     "output_type": "stream",
     "text": [
      "(28, 28, 3)\n"
     ]
    },
    {
     "data": {
      "text/plain": [
       "<Figure size 432x288 with 0 Axes>"
      ]
     },
     "metadata": {},
     "output_type": "display_data"
    },
    {
     "data": {
      "image/png": "[encoded data removed]",
      "text/plain": [
       "<Figure size 288x288 with 1 Axes>"
      ]
     },
     "metadata": {
      "needs_background": "light"
     },
     "output_type": "display_data"
    }
   ],
   "source": [
    "#heatmap = (heatmap-0.5)*2\n",
    "#print(heatmap[0,0])\n",
    "plot_image(Res.reshape([28,28,1]))"
   ]
  },
  {
   "cell_type": "code",
   "execution_count": 30,
   "metadata": {},
   "outputs": [
    {
     "name": "stdout",
     "output_type": "stream",
     "text": [
      "tensor([2, 1, 0, 4, 1, 4, 9, 5, 9, 0, 6, 9, 0, 1, 5, 9, 7, 3, 4])\n"
     ]
    }
   ],
   "source": []
  },
  {
   "cell_type": "code",
   "execution_count": null,
   "metadata": {},
   "outputs": [],
   "source": []
  }
 ],
 "metadata": {
  "kernelspec": {
   "display_name": "gpu_ptorch",
   "language": "python",
   "name": "gpu_ptorch"
  },
  "language_info": {
   "codemirror_mode": {
    "name": "ipython",
    "version": 3
   },
   "file_extension": ".py",
   "mimetype": "text/x-python",
   "name": "python",
   "nbconvert_exporter": "python",
   "pygments_lexer": "ipython3",
   "version": "3.6.10"
  }
 },
 "nbformat": 4,
 "nbformat_minor": 2
}
