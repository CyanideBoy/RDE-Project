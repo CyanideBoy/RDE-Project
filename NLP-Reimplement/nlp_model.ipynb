{
  "nbformat": 4,
  "nbformat_minor": 0,
  "metadata": {
    "colab": {
      "name": "nlp_model.ipynb",
      "provenance": [],
      "collapsed_sections": [],
      "machine_shape": "hm"
    },
    "kernelspec": {
      "name": "python3",
      "display_name": "Python 3"
    },
    "accelerator": "GPU"
  },
  "cells": [
    {
      "cell_type": "markdown",
      "metadata": {
        "id": "BIpTEcTGEYs7",
        "colab_type": "text"
      },
      "source": [
        "[![Open In Colab](https://colab.research.google.com/assets/colab-badge.svg)](https://colab.research.google.com/github/CyanideBoy/RDE-in-NLP/blob/master/NLP-Reimplement/nlp_model.ipynb)"
      ]
    },
    {
      "cell_type": "code",
      "metadata": {
        "id": "ZUiRm7zEsgAa",
        "colab_type": "code",
        "colab": {
          "base_uri": "https://localhost:8080/",
          "height": 73
        },
        "outputId": "fc550439-cf80-4535-e598-ce278ec926c0"
      },
      "source": [
        "from model import ConvNet\n",
        "import torch\n",
        "import torch.nn as nn\n",
        "import torch.nn.functional as F\n",
        "import torch.optim as optim\n",
        "import gensim.downloader as api\n",
        "\n",
        "wv = api.load('word2vec-google-news-300')\n",
        "#wts = torch.FloatTensor(wv.vectors)\n",
        "model = ConvNet()"
      ],
      "execution_count": 6,
      "outputs": [
        {
          "output_type": "stream",
          "text": [
            "/usr/local/lib/python3.6/dist-packages/smart_open/smart_open_lib.py:253: UserWarning: This function is deprecated, use smart_open.open instead. See the migration notes for details: https://github.com/RaRe-Technologies/smart_open/blob/master/README.rst#migrating-to-the-new-open-function\n",
            "  'See the migration notes for details: %s' % _MIGRATION_NOTES_URL\n"
          ],
          "name": "stderr"
        }
      ]
    },
    {
      "cell_type": "code",
      "metadata": {
        "id": "G4ygaSbbs0kK",
        "colab_type": "code",
        "colab": {}
      },
      "source": [
        "from sklearn.datasets import fetch_20newsgroups\n",
        "import numpy as np\n",
        "\n",
        "ptrain = fetch_20newsgroups(subset='train',shuffle='True')\n",
        "ptest = fetch_20newsgroups(subset='test',shuffle='True')"
      ],
      "execution_count": 0,
      "outputs": []
    },
    {
      "cell_type": "code",
      "metadata": {
        "id": "nbHFtFMstCde",
        "colab_type": "code",
        "colab": {}
      },
      "source": [
        "ptrain['data'] = ['\\n'.join((x.split('\\n\\n'))[1:]) for x in ptrain['data']]\n",
        "ptest['data'] = ['\\n'.join((x.split('\\n\\n'))[1:]) for x in ptest['data']]"
      ],
      "execution_count": 0,
      "outputs": []
    },
    {
      "cell_type": "code",
      "metadata": {
        "id": "HByP16gCuF4A",
        "colab_type": "code",
        "colab": {
          "base_uri": "https://localhost:8080/",
          "height": 428
        },
        "outputId": "8aa9e2eb-b396-4205-effd-59027a85ba27"
      },
      "source": [
        "print(ptrain['data'][100])"
      ],
      "execution_count": 9,
      "outputs": [
        {
          "output_type": "stream",
          "text": [
            "1.  Software publishing SuperBase 4 windows v.1.3           --->$80\n",
            "2.  OCR System ReadRight v.3.1 for Windows                  --->$65\n",
            "3.  OCR System ReadRight  v.2.01 for DOS                    --->$65\n",
            "4.  Unregistered Zortech 32 bit C++ Compiler v.3.1          --->$ 250\n",
            "     with Multiscope windows Debugger,\n",
            "     WhiteWater Resource Toolkit, Library Source Code\n",
            "5.  Glockenspiel/ImageSoft Commonview 2 Windows\n",
            "     Applications Framework for Borland C++                 --->$70\n",
            "6.  Spontaneous Assembly Library With Source Code           --->$50\n",
            "7.  Microsoft Macro Assembly 6.0                            --->$50\n",
            "8.  Microsoft Windows v.3.1 SDK Documentation               --->$125\n",
            "9.  Microsoft FoxPro V.2.0                                  --->$75\n",
            "10.  WordPerfect 5.0 Developer's Toolkit                    --->$20\n",
            "11.  Kedwell Software DataBoss v.3.5 C Code Generator       --->$100\n",
            "12.  Kedwell InstallBoss v.2.0 Installation Generator       --->$35\n",
            "13.  Liant Software C++/Views v.2.1\n",
            "       Windows Application Framework with Source Code       --->$195\n",
            "14.  IBM OS/2 2.0 & Developer's Toolkit                     --->$95\n",
            "15.  CBTree DOS/Windows Library with Source Code            --->$120\n",
            "16.  Symantec TimeLine for Windows                          --->$90\n",
            "17.  TimeSlip TimeSheet Professional for Windows            --->$30\n",
            "         Many More Software/Books Available,Price Negotiable\n",
            "\n"
          ],
          "name": "stdout"
        }
      ]
    },
    {
      "cell_type": "code",
      "metadata": {
        "id": "AdAMXcjauJ5g",
        "colab_type": "code",
        "colab": {}
      },
      "source": [
        "from nltk.tokenize import sent_tokenize, word_tokenize"
      ],
      "execution_count": 0,
      "outputs": []
    },
    {
      "cell_type": "code",
      "metadata": {
        "id": "nyQD2qq6uzXH",
        "colab_type": "code",
        "colab": {
          "base_uri": "https://localhost:8080/",
          "height": 88
        },
        "outputId": "52e0ab44-7a8a-482d-86cb-56301cb49227"
      },
      "source": [
        "import nltk\n",
        "print(nltk.__version__)\n",
        "nltk.download('punkt')"
      ],
      "execution_count": 11,
      "outputs": [
        {
          "output_type": "stream",
          "text": [
            "3.2.5\n",
            "[nltk_data] Downloading package punkt to /root/nltk_data...\n",
            "[nltk_data]   Package punkt is already up-to-date!\n"
          ],
          "name": "stdout"
        },
        {
          "output_type": "execute_result",
          "data": {
            "text/plain": [
              "True"
            ]
          },
          "metadata": {
            "tags": []
          },
          "execution_count": 11
        }
      ]
    },
    {
      "cell_type": "code",
      "metadata": {
        "id": "uG48K9jYu1zQ",
        "colab_type": "code",
        "colab": {}
      },
      "source": [
        "ptrain['data'] = [word_tokenize(x) for x in ptrain['data']]\n",
        "ptest['data'] = [word_tokenize(x) for x in ptest['data']]"
      ],
      "execution_count": 0,
      "outputs": []
    },
    {
      "cell_type": "code",
      "metadata": {
        "id": "vyousYUivXNM",
        "colab_type": "code",
        "colab": {
          "base_uri": "https://localhost:8080/",
          "height": 55
        },
        "outputId": "e3fb9f17-26f8-4880-a210-fd6b02ec302f"
      },
      "source": [
        "print(ptrain['data'][100])"
      ],
      "execution_count": 13,
      "outputs": [
        {
          "output_type": "stream",
          "text": [
            "['1', '.', 'Software', 'publishing', 'SuperBase', '4', 'windows', 'v.1.3', '--', '-', '>', '$', '80', '2', '.', 'OCR', 'System', 'ReadRight', 'v.3.1', 'for', 'Windows', '--', '-', '>', '$', '65', '3', '.', 'OCR', 'System', 'ReadRight', 'v.2.01', 'for', 'DOS', '--', '-', '>', '$', '65', '4', '.', 'Unregistered', 'Zortech', '32', 'bit', 'C++', 'Compiler', 'v.3.1', '--', '-', '>', '$', '250', 'with', 'Multiscope', 'windows', 'Debugger', ',', 'WhiteWater', 'Resource', 'Toolkit', ',', 'Library', 'Source', 'Code', '5', '.', 'Glockenspiel/ImageSoft', 'Commonview', '2', 'Windows', 'Applications', 'Framework', 'for', 'Borland', 'C++', '--', '-', '>', '$', '70', '6', '.', 'Spontaneous', 'Assembly', 'Library', 'With', 'Source', 'Code', '--', '-', '>', '$', '50', '7', '.', 'Microsoft', 'Macro', 'Assembly', '6.0', '--', '-', '>', '$', '50', '8', '.', 'Microsoft', 'Windows', 'v.3.1', 'SDK', 'Documentation', '--', '-', '>', '$', '125', '9', '.', 'Microsoft', 'FoxPro', 'V.2.0', '--', '-', '>', '$', '75', '10', '.', 'WordPerfect', '5.0', 'Developer', \"'s\", 'Toolkit', '--', '-', '>', '$', '20', '11', '.', 'Kedwell', 'Software', 'DataBoss', 'v.3.5', 'C', 'Code', 'Generator', '--', '-', '>', '$', '100', '12', '.', 'Kedwell', 'InstallBoss', 'v.2.0', 'Installation', 'Generator', '--', '-', '>', '$', '35', '13', '.', 'Liant', 'Software', 'C++/Views', 'v.2.1', 'Windows', 'Application', 'Framework', 'with', 'Source', 'Code', '--', '-', '>', '$', '195', '14', '.', 'IBM', 'OS/2', '2.0', '&', 'Developer', \"'s\", 'Toolkit', '--', '-', '>', '$', '95', '15', '.', 'CBTree', 'DOS/Windows', 'Library', 'with', 'Source', 'Code', '--', '-', '>', '$', '120', '16', '.', 'Symantec', 'TimeLine', 'for', 'Windows', '--', '-', '>', '$', '90', '17', '.', 'TimeSlip', 'TimeSheet', 'Professional', 'for', 'Windows', '--', '-', '>', '$', '30', 'Many', 'More', 'Software/Books', 'Available', ',', 'Price', 'Negotiable']\n"
          ],
          "name": "stdout"
        }
      ]
    },
    {
      "cell_type": "code",
      "metadata": {
        "id": "-AzKKQZywZlz",
        "colab_type": "code",
        "colab": {
          "base_uri": "https://localhost:8080/",
          "height": 91
        },
        "outputId": "c270b969-e0dc-425f-d48c-a6d773103709"
      },
      "source": [
        "import re\n",
        "\n",
        "y = ptrain['data'][100]\n",
        "\n",
        "rem = []\n",
        "for w in y:\n",
        "  if w=='.':\n",
        "    continue\n",
        "  if w==\"'\":\n",
        "    continue\n",
        "  if re.search('[a-zA-Z]', w):\n",
        "    continue\n",
        "  else:\n",
        "    rem += [w]\n",
        "  \n",
        "print(rem)\n",
        "print(y)\n",
        "\n",
        "for r in rem:\n",
        "  y.remove(r)\n",
        "\n",
        "print(y)"
      ],
      "execution_count": 14,
      "outputs": [
        {
          "output_type": "stream",
          "text": [
            "['1', '4', '--', '-', '>', '$', '80', '2', '--', '-', '>', '$', '65', '3', '--', '-', '>', '$', '65', '4', '32', '--', '-', '>', '$', '250', ',', ',', '5', '2', '--', '-', '>', '$', '70', '6', '--', '-', '>', '$', '50', '7', '6.0', '--', '-', '>', '$', '50', '8', '--', '-', '>', '$', '125', '9', '--', '-', '>', '$', '75', '10', '5.0', '--', '-', '>', '$', '20', '11', '--', '-', '>', '$', '100', '12', '--', '-', '>', '$', '35', '13', '--', '-', '>', '$', '195', '14', '2.0', '&', '--', '-', '>', '$', '95', '15', '--', '-', '>', '$', '120', '16', '--', '-', '>', '$', '90', '17', '--', '-', '>', '$', '30', ',']\n",
            "['1', '.', 'Software', 'publishing', 'SuperBase', '4', 'windows', 'v.1.3', '--', '-', '>', '$', '80', '2', '.', 'OCR', 'System', 'ReadRight', 'v.3.1', 'for', 'Windows', '--', '-', '>', '$', '65', '3', '.', 'OCR', 'System', 'ReadRight', 'v.2.01', 'for', 'DOS', '--', '-', '>', '$', '65', '4', '.', 'Unregistered', 'Zortech', '32', 'bit', 'C++', 'Compiler', 'v.3.1', '--', '-', '>', '$', '250', 'with', 'Multiscope', 'windows', 'Debugger', ',', 'WhiteWater', 'Resource', 'Toolkit', ',', 'Library', 'Source', 'Code', '5', '.', 'Glockenspiel/ImageSoft', 'Commonview', '2', 'Windows', 'Applications', 'Framework', 'for', 'Borland', 'C++', '--', '-', '>', '$', '70', '6', '.', 'Spontaneous', 'Assembly', 'Library', 'With', 'Source', 'Code', '--', '-', '>', '$', '50', '7', '.', 'Microsoft', 'Macro', 'Assembly', '6.0', '--', '-', '>', '$', '50', '8', '.', 'Microsoft', 'Windows', 'v.3.1', 'SDK', 'Documentation', '--', '-', '>', '$', '125', '9', '.', 'Microsoft', 'FoxPro', 'V.2.0', '--', '-', '>', '$', '75', '10', '.', 'WordPerfect', '5.0', 'Developer', \"'s\", 'Toolkit', '--', '-', '>', '$', '20', '11', '.', 'Kedwell', 'Software', 'DataBoss', 'v.3.5', 'C', 'Code', 'Generator', '--', '-', '>', '$', '100', '12', '.', 'Kedwell', 'InstallBoss', 'v.2.0', 'Installation', 'Generator', '--', '-', '>', '$', '35', '13', '.', 'Liant', 'Software', 'C++/Views', 'v.2.1', 'Windows', 'Application', 'Framework', 'with', 'Source', 'Code', '--', '-', '>', '$', '195', '14', '.', 'IBM', 'OS/2', '2.0', '&', 'Developer', \"'s\", 'Toolkit', '--', '-', '>', '$', '95', '15', '.', 'CBTree', 'DOS/Windows', 'Library', 'with', 'Source', 'Code', '--', '-', '>', '$', '120', '16', '.', 'Symantec', 'TimeLine', 'for', 'Windows', '--', '-', '>', '$', '90', '17', '.', 'TimeSlip', 'TimeSheet', 'Professional', 'for', 'Windows', '--', '-', '>', '$', '30', 'Many', 'More', 'Software/Books', 'Available', ',', 'Price', 'Negotiable']\n",
            "['.', 'Software', 'publishing', 'SuperBase', 'windows', 'v.1.3', '.', 'OCR', 'System', 'ReadRight', 'v.3.1', 'for', 'Windows', '.', 'OCR', 'System', 'ReadRight', 'v.2.01', 'for', 'DOS', '.', 'Unregistered', 'Zortech', 'bit', 'C++', 'Compiler', 'v.3.1', 'with', 'Multiscope', 'windows', 'Debugger', 'WhiteWater', 'Resource', 'Toolkit', 'Library', 'Source', 'Code', '.', 'Glockenspiel/ImageSoft', 'Commonview', 'Windows', 'Applications', 'Framework', 'for', 'Borland', 'C++', '.', 'Spontaneous', 'Assembly', 'Library', 'With', 'Source', 'Code', '.', 'Microsoft', 'Macro', 'Assembly', '.', 'Microsoft', 'Windows', 'v.3.1', 'SDK', 'Documentation', '.', 'Microsoft', 'FoxPro', 'V.2.0', '.', 'WordPerfect', 'Developer', \"'s\", 'Toolkit', '.', 'Kedwell', 'Software', 'DataBoss', 'v.3.5', 'C', 'Code', 'Generator', '.', 'Kedwell', 'InstallBoss', 'v.2.0', 'Installation', 'Generator', '.', 'Liant', 'Software', 'C++/Views', 'v.2.1', 'Windows', 'Application', 'Framework', 'with', 'Source', 'Code', '.', 'IBM', 'OS/2', 'Developer', \"'s\", 'Toolkit', '.', 'CBTree', 'DOS/Windows', 'Library', 'with', 'Source', 'Code', '.', 'Symantec', 'TimeLine', 'for', 'Windows', '.', 'TimeSlip', 'TimeSheet', 'Professional', 'for', 'Windows', 'Many', 'More', 'Software/Books', 'Available', 'Price', 'Negotiable']\n"
          ],
          "name": "stdout"
        }
      ]
    },
    {
      "cell_type": "code",
      "metadata": {
        "id": "PkuEf0vUyidx",
        "colab_type": "code",
        "colab": {}
      },
      "source": [
        "for idx,y in enumerate(ptrain['data']):\n",
        "  rem = []\n",
        "  for w in y:\n",
        "    if w=='.':\n",
        "      continue\n",
        "    if w==\"'\":\n",
        "      continue\n",
        "    if re.search('[a-zA-Z]', w):\n",
        "      continue\n",
        "    else:\n",
        "      rem += [w]\n",
        "  \n",
        "  for r in rem:\n",
        "    y.remove(r)\n",
        "\n",
        "  ptrain['data'][idx] = y"
      ],
      "execution_count": 0,
      "outputs": []
    },
    {
      "cell_type": "code",
      "metadata": {
        "id": "F-zixU590DGM",
        "colab_type": "code",
        "colab": {}
      },
      "source": [
        "for idx,y in enumerate(ptest['data']):\n",
        "  rem = []\n",
        "  for w in y:\n",
        "    if w=='.':\n",
        "      continue\n",
        "    if w==\"'\":\n",
        "      continue\n",
        "    if re.search('[a-zA-Z]', w):\n",
        "      continue\n",
        "    else:\n",
        "      rem += [w]\n",
        "  \n",
        "  for r in rem:\n",
        "    y.remove(r)\n",
        "\n",
        "  ptest['data'][idx] = y"
      ],
      "execution_count": 0,
      "outputs": []
    },
    {
      "cell_type": "code",
      "metadata": {
        "id": "x0MlyOrd1LBd",
        "colab_type": "code",
        "colab": {
          "base_uri": "https://localhost:8080/",
          "height": 144
        },
        "outputId": "b3b4b5f1-8a2d-4db6-84df-5780bcd380be"
      },
      "source": [
        "print(ptrain.keys())\n",
        "print(ptrain['data'][200])\n",
        "print(ptrain['target_names'])\n",
        "print(ptrain['target'][200])\n",
        "print(ptrain['filenames'][200])\n",
        "print(ptrain['DESCR'][200])\n"
      ],
      "execution_count": 17,
      "outputs": [
        {
          "output_type": "stream",
          "text": [
            "dict_keys(['data', 'filenames', 'target_names', 'target', 'DESCR'])\n",
            "['In', 'article', 'C5JGz5.34J', 'SSD.intel.com', 'hays', 'ssd.intel.com', 'Kirk', 'Hays', 'writes', 'I', \"'d\", 'like', 'to', 'point', 'out', 'that', 'I', 'was', 'in', 'error', 'Terminator', 'began', 'posting', 'only', 'six', 'months', 'before', 'he', 'purchased', 'his', 'first', 'firearm', 'according', 'to', 'private', 'email', 'from', 'him', '.', 'I', 'ca', \"n't\", 'produce', 'an', 'archived', 'posting', 'of', 'his', 'earlier', 'than', 'January', 'and', 'he', 'purchased', 'his', 'first', 'firearm', 'in', 'March', '.', 'I', 'guess', 'it', 'only', 'seemed', 'like', 'years', '.', 'Kirk', 'Hays', 'NRA', 'Life', 'seventh', 'generation', '.', 'I', 'first', 'read', 'and', 'consulted', 'rec.guns', 'in', 'the', 'summer', 'of', '.', 'I', 'just', 'purchased', 'my', 'first', 'firearm', 'in', 'early', 'March', 'of', 'this', 'year', '.', 'NOt', 'for', 'lack', 'of', 'desire', 'for', 'a', 'firearm', 'you', 'understand', '.', 'I', 'could', 'have', 'purchased', 'a', 'rifle', 'or', 'shotgun', 'but', 'did', \"n't\", 'want', 'one', '.', '-Case', 'Kim']\n",
            "['alt.atheism', 'comp.graphics', 'comp.os.ms-windows.misc', 'comp.sys.ibm.pc.hardware', 'comp.sys.mac.hardware', 'comp.windows.x', 'misc.forsale', 'rec.autos', 'rec.motorcycles', 'rec.sport.baseball', 'rec.sport.hockey', 'sci.crypt', 'sci.electronics', 'sci.med', 'sci.space', 'soc.religion.christian', 'talk.politics.guns', 'talk.politics.mideast', 'talk.politics.misc', 'talk.religion.misc']\n",
            "16\n",
            "/root/scikit_learn_data/20news_home/20news-bydate-train/talk.politics.guns/54500\n",
            "r\n"
          ],
          "name": "stdout"
        }
      ]
    },
    {
      "cell_type": "code",
      "metadata": {
        "id": "E_TDRTNH1t0s",
        "colab_type": "code",
        "colab": {}
      },
      "source": [
        "train_data, train_y = ptrain['data'], ptrain['target']\n",
        "test_data, test_y = ptest['data'], ptest['target']"
      ],
      "execution_count": 0,
      "outputs": []
    },
    {
      "cell_type": "code",
      "metadata": {
        "id": "iD52LxVs4037",
        "colab_type": "code",
        "colab": {}
      },
      "source": [
        "train_x = np.zeros((len(train_data),400,300))\n",
        "for idx,data in enumerate(train_data):\n",
        "  for jdx,words in enumerate(train_data[idx]):\n",
        "    if jdx==400:\n",
        "      break\n",
        "    try:\n",
        "      train_x[idx,jdx] = wv[train_data[idx][jdx]]\n",
        "    except KeyError:\n",
        "      continue"
      ],
      "execution_count": 0,
      "outputs": []
    },
    {
      "cell_type": "code",
      "metadata": {
        "id": "XVmt_zVl54Aj",
        "colab_type": "code",
        "colab": {
          "base_uri": "https://localhost:8080/",
          "height": 267
        },
        "outputId": "320cde37-353d-4b9f-ec0f-09949918b853"
      },
      "source": [
        "print((wv['article']==train_x[200,1]).all())\n",
        "\n",
        "print(train_x[200,2]) #'C5JGz5.34J'"
      ],
      "execution_count": 20,
      "outputs": [
        {
          "output_type": "stream",
          "text": [
            "True\n",
            "[0. 0. 0. 0. 0. 0. 0. 0. 0. 0. 0. 0. 0. 0. 0. 0. 0. 0. 0. 0. 0. 0. 0. 0.\n",
            " 0. 0. 0. 0. 0. 0. 0. 0. 0. 0. 0. 0. 0. 0. 0. 0. 0. 0. 0. 0. 0. 0. 0. 0.\n",
            " 0. 0. 0. 0. 0. 0. 0. 0. 0. 0. 0. 0. 0. 0. 0. 0. 0. 0. 0. 0. 0. 0. 0. 0.\n",
            " 0. 0. 0. 0. 0. 0. 0. 0. 0. 0. 0. 0. 0. 0. 0. 0. 0. 0. 0. 0. 0. 0. 0. 0.\n",
            " 0. 0. 0. 0. 0. 0. 0. 0. 0. 0. 0. 0. 0. 0. 0. 0. 0. 0. 0. 0. 0. 0. 0. 0.\n",
            " 0. 0. 0. 0. 0. 0. 0. 0. 0. 0. 0. 0. 0. 0. 0. 0. 0. 0. 0. 0. 0. 0. 0. 0.\n",
            " 0. 0. 0. 0. 0. 0. 0. 0. 0. 0. 0. 0. 0. 0. 0. 0. 0. 0. 0. 0. 0. 0. 0. 0.\n",
            " 0. 0. 0. 0. 0. 0. 0. 0. 0. 0. 0. 0. 0. 0. 0. 0. 0. 0. 0. 0. 0. 0. 0. 0.\n",
            " 0. 0. 0. 0. 0. 0. 0. 0. 0. 0. 0. 0. 0. 0. 0. 0. 0. 0. 0. 0. 0. 0. 0. 0.\n",
            " 0. 0. 0. 0. 0. 0. 0. 0. 0. 0. 0. 0. 0. 0. 0. 0. 0. 0. 0. 0. 0. 0. 0. 0.\n",
            " 0. 0. 0. 0. 0. 0. 0. 0. 0. 0. 0. 0. 0. 0. 0. 0. 0. 0. 0. 0. 0. 0. 0. 0.\n",
            " 0. 0. 0. 0. 0. 0. 0. 0. 0. 0. 0. 0. 0. 0. 0. 0. 0. 0. 0. 0. 0. 0. 0. 0.\n",
            " 0. 0. 0. 0. 0. 0. 0. 0. 0. 0. 0. 0.]\n"
          ],
          "name": "stdout"
        }
      ]
    },
    {
      "cell_type": "code",
      "metadata": {
        "id": "EvQjo2Eq-N9P",
        "colab_type": "code",
        "colab": {}
      },
      "source": [
        "test_x = np.zeros((len(test_data),400,300))\n",
        "for idx,data in enumerate(test_data):\n",
        "  for jdx,words in enumerate(test_data[idx]):\n",
        "    if jdx==400:\n",
        "      break\n",
        "    try:\n",
        "      test_x[idx,jdx] = wv[test_data[idx][jdx]]\n",
        "    except KeyError:\n",
        "      continue"
      ],
      "execution_count": 0,
      "outputs": []
    },
    {
      "cell_type": "code",
      "metadata": {
        "id": "sTmNulnF_VyL",
        "colab_type": "code",
        "colab": {
          "base_uri": "https://localhost:8080/",
          "height": 71
        },
        "outputId": "6e4475d7-2a98-4c8f-94b0-9636b228d712"
      },
      "source": [
        "NUM_DATA_POINTS = int(0.8*len(train_x))\n",
        "NUM_VAL_POINTS = len(train_x) - NUM_DATA_POINTS\n",
        "\n",
        "val_x = train_x[NUM_DATA_POINTS:]\n",
        "train_X = train_x[:NUM_DATA_POINTS]\n",
        "val_y = train_y[NUM_DATA_POINTS:]\n",
        "train_y = train_y[:NUM_DATA_POINTS]\n",
        "\n",
        "device = torch.device('cuda:0' if torch.cuda.is_available() else 'cpu')\n",
        "print('Running on',device)\n",
        "print('Building model..')\t\n",
        "model.to(device)\n",
        "print('Model Built.')"
      ],
      "execution_count": 22,
      "outputs": [
        {
          "output_type": "stream",
          "text": [
            "Running on cuda:0\n",
            "Building model..\n",
            "Model Built.\n"
          ],
          "name": "stdout"
        }
      ]
    },
    {
      "cell_type": "code",
      "metadata": {
        "id": "uGNYRgiMAmqz",
        "colab_type": "code",
        "colab": {
          "base_uri": "https://localhost:8080/",
          "height": 53
        },
        "outputId": "677fcbc9-56c1-4542-eedd-8bedbafe915a"
      },
      "source": [
        "print('Initializing optimizer and scheduler..')\n",
        "\n",
        "criterion = torch.nn.NLLLoss()\n",
        "optimizer = torch.optim.Adam(model.parameters(), lr=LEARNINGRATE)\n",
        "scheduler = torch.optim.lr_scheduler.ExponentialLR(optimizer, gamma = 0.95)\n",
        "\n",
        "print('Optimizer initialized.')"
      ],
      "execution_count": 61,
      "outputs": [
        {
          "output_type": "stream",
          "text": [
            "Initializing optimizer and scheduler..\n",
            "Optimizer initialized.\n"
          ],
          "name": "stdout"
        }
      ]
    },
    {
      "cell_type": "code",
      "metadata": {
        "id": "AnqB2YzAJ8rV",
        "colab_type": "code",
        "colab": {
          "base_uri": "https://localhost:8080/",
          "height": 178
        },
        "outputId": "afe3feb1-7db5-4a8c-b463-6c4c3041ec44"
      },
      "source": [
        "for name, param in model.named_parameters():\n",
        "    if param.requires_grad:\n",
        "        print(name)\n",
        "\n",
        "def weights_init(m):\n",
        "    if isinstance(m, nn.Conv2d) or isinstance(m, nn.Linear):\n",
        "      torch.nn.init.xavier_uniform_(m.weight.data)\n",
        "\n",
        "model.apply(weights_init)"
      ],
      "execution_count": 62,
      "outputs": [
        {
          "output_type": "stream",
          "text": [
            "conv1.weight\n",
            "conv1.bias\n",
            "fc1.weight\n",
            "fc1.bias\n"
          ],
          "name": "stdout"
        },
        {
          "output_type": "execute_result",
          "data": {
            "text/plain": [
              "ConvNet(\n",
              "  (conv1): Conv2d(1, 800, kernel_size=(2, 300), stride=(1, 1))\n",
              "  (fc1): Linear(in_features=800, out_features=20, bias=True)\n",
              "  (dropout1): Dropout(p=0.2, inplace=False)\n",
              ")"
            ]
          },
          "metadata": {
            "tags": []
          },
          "execution_count": 62
        }
      ]
    },
    {
      "cell_type": "code",
      "metadata": {
        "id": "y1Za1dlpKIos",
        "colab_type": "code",
        "colab": {
          "base_uri": "https://localhost:8080/",
          "height": 1000
        },
        "outputId": "0b882a7e-49d0-41a1-d2ca-c977da10f0c0"
      },
      "source": [
        "\n",
        "BATCHSIZE = 256\n",
        "NUMEPOCHS = 45\n",
        "LEARNINGRATE = 5e-3\n",
        "\n",
        "import matplotlib.pyplot as plt\n",
        "import time\n",
        "\n",
        "min_val_loss = float('inf')\n",
        "\n",
        "loss_values_train = []\n",
        "loss_values_val = []\n",
        "\n",
        "for epoch in range(1,NUMEPOCHS+1):\n",
        "    start_time = time.time()\n",
        "    model.train()\n",
        "    runloss = 0.0\n",
        "    # training loop, pretty self explanatory\n",
        "    for i in range(NUM_DATA_POINTS//BATCHSIZE):\n",
        "        data_input, data_output = train_x[i*BATCHSIZE:(i+1)*BATCHSIZE], train_y[i*BATCHSIZE:(i+1)*BATCHSIZE]\n",
        "        \n",
        "        data_input = torch.as_tensor(data_input)\n",
        "        data_output = torch.as_tensor(data_output)\n",
        "        \n",
        "        data_input = data_input.to(device, dtype=torch.float)\n",
        "        data_output = data_output.to(device, dtype=torch.long)\n",
        "        \n",
        "        output = model(data_input) \n",
        "        #print(output, data_output)\n",
        "        loss = criterion(output, data_output)\n",
        "        runloss += loss.item()\n",
        "\n",
        "        optimizer.zero_grad()\n",
        "        loss.backward()\n",
        "        optimizer.step()\n",
        "\n",
        "    runloss /= (NUM_DATA_POINTS//BATCHSIZE)\n",
        "    loss_values_train.append(runloss)\n",
        "    \n",
        "    model.eval()\n",
        "    \n",
        "    val_loss = 0\n",
        "    corr = 0\n",
        "    with torch.no_grad():\n",
        "        for i in range(NUM_VAL_POINTS//BATCHSIZE):\n",
        "            val_data_input, val_data_output = val_x[i*BATCHSIZE:(i+1)*BATCHSIZE], val_y[i*BATCHSIZE:(i+1)*BATCHSIZE]\n",
        "\n",
        "            data_input = torch.as_tensor(val_data_input)\n",
        "            data_output = torch.as_tensor(val_data_output)\n",
        "\n",
        "            data_input = data_input.to(device, dtype=torch.float)\n",
        "            data_output = data_output.to(device, dtype=torch.long)\n",
        "\n",
        "            output = model(data_input)\n",
        "            pred = output.argmax(dim=1,keepdim=True)\n",
        "            #print(pred,data_output)\n",
        "            #print(pred.eq(data_output.view_as(pred)).sum().item())\n",
        "            corr += pred.eq(data_output.view_as(pred)).sum().item()\n",
        "\n",
        "            loss = criterion(output, data_output)\n",
        "            val_loss += loss.data.item()\n",
        "            \n",
        "    # saving model if validation loss is lowest\n",
        "    val_loss /= NUM_VAL_POINTS//BATCHSIZE\n",
        "    loss_values_val.append(val_loss)\n",
        "\n",
        "    if val_loss <= min_val_loss:\n",
        "        min_val_loss = val_loss\n",
        "        torch.save(model.state_dict(), 'Model_best_val_quicksave.pt')\n",
        "\n",
        "    # printing some stuff\n",
        "    stop_time = time.time()\n",
        "    time_el = int(stop_time-start_time)\n",
        "    print('epoch [{}/{}], loss:{:.7f}, val loss:{:.7f}, val acc:{:.7f} in {}h {}m {}s'.format(epoch, NUMEPOCHS,\n",
        "                                                                                runloss, val_loss, 100*corr/(BATCHSIZE*(NUM_VAL_POINTS//BATCHSIZE)),\n",
        "                                                                                time_el//3600,\n",
        "                                                                                (time_el%3600)//60,\n",
        "                                                                                time_el%60))\n",
        "    # quicksaving model every epoch if something goes wrong and I want to continue training later\n",
        "    torch.save(model.state_dict(), 'Model_quicksave.pt')\n",
        "\n",
        "    scheduler.step()\n",
        "\n",
        "plt.plot(np.array(loss_values_train), 'b')\n",
        "plt.plot(np.array(loss_values_val), 'r')\n",
        "plt.legend(['Train','Val'])\n",
        "plt.grid(True)\n",
        "plt.xlabel('Epochs')\n",
        "plt.ylabel('Loss')\n",
        "plt.show()"
      ],
      "execution_count": 63,
      "outputs": [
        {
          "output_type": "stream",
          "text": [
            "epoch [1/45], loss:2.1246222, val loss:1.0930268, val acc:66.4062500 in 0h 0m 10s\n",
            "epoch [2/45], loss:1.2582643, val loss:0.8444311, val acc:74.6093750 in 0h 0m 10s\n",
            "epoch [3/45], loss:1.0044872, val loss:0.7255989, val acc:78.4667969 in 0h 0m 10s\n",
            "epoch [4/45], loss:0.8462991, val loss:0.6754443, val acc:79.7363281 in 0h 0m 10s\n",
            "epoch [5/45], loss:0.7037550, val loss:0.6715031, val acc:80.2246094 in 0h 0m 10s\n",
            "epoch [6/45], loss:0.6385677, val loss:0.6515490, val acc:80.5175781 in 0h 0m 10s\n",
            "epoch [7/45], loss:0.5594933, val loss:0.6333209, val acc:82.0800781 in 0h 0m 10s\n",
            "epoch [8/45], loss:0.5039586, val loss:0.6278821, val acc:82.0312500 in 0h 0m 10s\n",
            "epoch [9/45], loss:0.4686990, val loss:0.6414933, val acc:80.8593750 in 0h 0m 10s\n",
            "epoch [10/45], loss:0.4609119, val loss:0.6561884, val acc:80.9570312 in 0h 0m 10s\n",
            "epoch [11/45], loss:0.4370367, val loss:0.6503653, val acc:81.6894531 in 0h 0m 10s\n",
            "epoch [12/45], loss:0.4207496, val loss:0.6424898, val acc:82.1289062 in 0h 0m 10s\n",
            "epoch [13/45], loss:0.4015405, val loss:0.6532478, val acc:81.8359375 in 0h 0m 10s\n",
            "epoch [14/45], loss:0.3900412, val loss:0.6530664, val acc:82.6171875 in 0h 0m 10s\n",
            "epoch [15/45], loss:0.3699985, val loss:0.6713566, val acc:82.5683594 in 0h 0m 10s\n",
            "epoch [16/45], loss:0.3565250, val loss:0.6680024, val acc:83.1054688 in 0h 0m 10s\n",
            "epoch [17/45], loss:0.3640267, val loss:0.6822680, val acc:82.6660156 in 0h 0m 10s\n",
            "epoch [18/45], loss:0.3437138, val loss:0.6889056, val acc:82.7636719 in 0h 0m 10s\n",
            "epoch [19/45], loss:0.3497173, val loss:0.6917351, val acc:82.3242188 in 0h 0m 10s\n",
            "epoch [20/45], loss:0.3411150, val loss:0.7072397, val acc:82.7148438 in 0h 0m 10s\n",
            "epoch [21/45], loss:0.3492783, val loss:0.7111422, val acc:82.4707031 in 0h 0m 10s\n",
            "epoch [22/45], loss:0.3483621, val loss:0.7251258, val acc:82.6171875 in 0h 0m 10s\n",
            "epoch [23/45], loss:0.3411721, val loss:0.7158758, val acc:82.5195312 in 0h 0m 10s\n",
            "epoch [24/45], loss:0.3238945, val loss:0.7154092, val acc:83.1542969 in 0h 0m 10s\n",
            "epoch [25/45], loss:0.3337386, val loss:0.7138661, val acc:82.8125000 in 0h 0m 10s\n",
            "epoch [26/45], loss:0.3191614, val loss:0.7156118, val acc:83.0078125 in 0h 0m 10s\n",
            "epoch [27/45], loss:0.3276528, val loss:0.7194562, val acc:82.9589844 in 0h 0m 10s\n",
            "epoch [28/45], loss:0.3365421, val loss:0.7203503, val acc:83.2031250 in 0h 0m 10s\n",
            "epoch [29/45], loss:0.3298314, val loss:0.7218600, val acc:82.8125000 in 0h 0m 10s\n",
            "epoch [30/45], loss:0.3351001, val loss:0.7225318, val acc:83.1054688 in 0h 0m 10s\n",
            "epoch [31/45], loss:0.3223473, val loss:0.7227047, val acc:83.1054688 in 0h 0m 10s\n",
            "epoch [32/45], loss:0.3290208, val loss:0.7235763, val acc:83.2519531 in 0h 0m 10s\n",
            "epoch [33/45], loss:0.3211273, val loss:0.7325031, val acc:83.1054688 in 0h 0m 10s\n",
            "epoch [34/45], loss:0.3247016, val loss:0.7305061, val acc:83.1542969 in 0h 0m 10s\n",
            "epoch [35/45], loss:0.3292943, val loss:0.7315290, val acc:82.9101562 in 0h 0m 10s\n",
            "epoch [36/45], loss:0.3309713, val loss:0.7347151, val acc:82.7636719 in 0h 0m 10s\n",
            "epoch [37/45], loss:0.3250985, val loss:0.7406846, val acc:82.6660156 in 0h 0m 10s\n",
            "epoch [38/45], loss:0.3136155, val loss:0.7390262, val acc:82.9589844 in 0h 0m 10s\n",
            "epoch [39/45], loss:0.3186740, val loss:0.7432928, val acc:82.7636719 in 0h 0m 10s\n",
            "epoch [40/45], loss:0.3152539, val loss:0.7434757, val acc:82.9101562 in 0h 0m 10s\n",
            "epoch [41/45], loss:0.3350074, val loss:0.7417537, val acc:82.9589844 in 0h 0m 10s\n",
            "epoch [42/45], loss:0.3257857, val loss:0.7434415, val acc:83.0078125 in 0h 0m 10s\n",
            "epoch [43/45], loss:0.3227740, val loss:0.7470721, val acc:83.2031250 in 0h 0m 10s\n",
            "epoch [44/45], loss:0.3136267, val loss:0.7479890, val acc:82.8613281 in 0h 0m 10s\n",
            "epoch [45/45], loss:0.3212250, val loss:0.7516582, val acc:83.0078125 in 0h 0m 10s\n"
          ],
          "name": "stdout"
        },
        {
          "output_type": "display_data",
          "data": {
            "image/png": "[encoded data removed]",
            "text/plain": [
              "<Figure size 432x288 with 1 Axes>"
            ]
          },
          "metadata": {
            "tags": [],
            "needs_background": "light"
          }
        }
      ]
    },
    {
      "cell_type": "code",
      "metadata": {
        "id": "XulYMnOAyhU8",
        "colab_type": "code",
        "colab": {
          "base_uri": "https://localhost:8080/",
          "height": 35
        },
        "outputId": "252e79f2-36e0-4f5f-e96a-2a6113b1583c"
      },
      "source": [
        "model.load_state_dict(torch.load('Model_best_val_quicksave.pt'))\n",
        "model.eval()\n",
        "\n",
        "NUM_TEST_POINTS = len(test_x)\n",
        "\n",
        "tloss = 0\n",
        "corr = 0\n",
        "with torch.no_grad():\n",
        "    for i in range(NUM_TEST_POINTS//BATCHSIZE):\n",
        "        test_data_input, test_data_output = test_x[i*BATCHSIZE:(i+1)*BATCHSIZE], test_y[i*BATCHSIZE:(i+1)*BATCHSIZE]\n",
        "\n",
        "        data_input = torch.as_tensor(test_data_input)\n",
        "        data_output = torch.as_tensor(test_data_output)\n",
        "\n",
        "        data_input = data_input.to(device, dtype=torch.float)\n",
        "        data_output = data_output.to(device, dtype=torch.long)\n",
        "\n",
        "        output = model(data_input)\n",
        "        pred = output.argmax(dim=1,keepdim=True)\n",
        "        corr += pred.eq(data_output.view_as(pred)).sum().item()\n",
        "\n",
        "        loss = criterion(output, data_output)\n",
        "        tloss += loss.data.item()\n",
        "        \n",
        "tloss /= NUM_TEST_POINTS//BATCHSIZE\n",
        "\n",
        "print('Test Accuracy: {:.2f}%'.format(100 * corr/(BATCHSIZE*(NUM_TEST_POINTS//BATCHSIZE))))"
      ],
      "execution_count": 64,
      "outputs": [
        {
          "output_type": "stream",
          "text": [
            "Test Accuracy: 72.84%\n"
          ],
          "name": "stdout"
        }
      ]
    }
  ]
}