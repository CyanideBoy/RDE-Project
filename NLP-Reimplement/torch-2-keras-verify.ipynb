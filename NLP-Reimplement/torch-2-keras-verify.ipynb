{
 "cells": [
  {
   "cell_type": "code",
   "execution_count": 4,
   "metadata": {},
   "outputs": [
    {
     "data": {
      "text/plain": [
       "IncompatibleKeys(missing_keys=[], unexpected_keys=[])"
      ]
     },
     "execution_count": 4,
     "metadata": {},
     "output_type": "execute_result"
    }
   ],
   "source": [
    "%matplotlib inline\n",
    "\n",
    "import torch\n",
    "from tensorflow.keras import backend as K\n",
    "import numpy as np\n",
    "import torch.nn as nn\n",
    "import torch.nn.functional as F\n",
    "from tensorflow.keras.layers import Conv2D, Input, Dense, MaxPool2D, Flatten, Lambda, GlobalMaxPool2D\n",
    "from tensorflow.keras.models import Model\n",
    "import tensorflow as tf\n",
    "import matplotlib.pyplot as plt\n",
    "\n",
    "from model import ConvNet\n",
    "from CustomDataset import get_dataset\n",
    "\n",
    "model = ConvNet(False)\n",
    "model.cpu()\n",
    "model.eval()\n",
    "model.load_state_dict(torch.load('weights/Model_quicksave40.pt'))"
   ]
  },
  {
   "cell_type": "code",
   "execution_count": 6,
   "metadata": {},
   "outputs": [
    {
     "name": "stdout",
     "output_type": "stream",
     "text": [
      "channels_last\n"
     ]
    }
   ],
   "source": [
    "print(K.image_data_format())\n",
    "\n",
    "with tf.device('/cpu:0'):\n",
    "    inp = Input((None,300,1))\n",
    "    x = Conv2D(1280,(5,300),activation='relu', name='conv1')(inp)\n",
    "    \n",
    "    # Reshaping to (BCHW)\n",
    "    x = GlobalMaxPool2D('channels_last')(x)\n",
    "    # Reshaping to (BCHW)\n",
    "    #x = Lambda(lambda x: K.permute_dimensions(x, (0, 3, 1, 2)))(x)\n",
    "    #x = Flatten()(x)\n",
    "    z = Dense(160,name='fc1',activation='relu')(x)\n",
    "    out = Dense(20,name='fc2')(z)\n",
    "    k_model = Model(inp, out)"
   ]
  },
  {
   "cell_type": "code",
   "execution_count": 8,
   "metadata": {},
   "outputs": [
    {
     "name": "stdout",
     "output_type": "stream",
     "text": [
      "['conv1' 'fc1' 'fc2']\n"
     ]
    }
   ],
   "source": [
    "trained_weights = model.state_dict()\n",
    "\n",
    "pytorch_layers = [] # get ptroch layers names and suffixes\n",
    "for x, l in zip(trained_weights, k_model.layers):\n",
    "    #print(x)\n",
    "    #print(l)\n",
    "    #print(x.find('.'))\n",
    "    pytorch_layers.append(x[:x.find('.')])\n",
    "\n",
    "unique_layers = np.unique(pytorch_layers)\n",
    "print(unique_layers)\n"
   ]
  },
  {
   "cell_type": "code",
   "execution_count": 9,
   "metadata": {},
   "outputs": [
    {
     "name": "stdout",
     "output_type": "stream",
     "text": [
      "_________________________________________________________________\n",
      "Layer (type)                 Output Shape              Param #   \n",
      "=================================================================\n",
      "input_3 (InputLayer)         (None, None, 300, 1)      0         \n",
      "_________________________________________________________________\n",
      "conv1 (Conv2D)               (None, None, 1, 1280)     1921280   \n",
      "_________________________________________________________________\n",
      "global_max_pooling2d_2 (Glob (None, 1280)              0         \n",
      "_________________________________________________________________\n",
      "fc1 (Dense)                  (None, 160)               204960    \n",
      "_________________________________________________________________\n",
      "fc2 (Dense)                  (None, 20)                3220      \n",
      "=================================================================\n",
      "Total params: 2,129,460\n",
      "Trainable params: 2,129,460\n",
      "Non-trainable params: 0\n",
      "_________________________________________________________________\n"
     ]
    }
   ],
   "source": [
    "\n",
    "\n",
    "for layer in unique_layers:\n",
    "    weights = trained_weights['{}.weight'.format(layer)].cpu().numpy() # torch weights (nf, ch, x, y)\n",
    "    biases = trained_weights['{}.bias'.format(layer)].cpu().numpy()\n",
    "    if 'bn' in layer:\n",
    "        running_mean = trained_weights['{}.running_mean'.format(layer)].cpu().numpy()\n",
    "        running_var = trained_weights['{}.running_var'.format(layer)].cpu().numpy()\n",
    "        W = [weights, biases, running_mean, running_var]\n",
    "    elif 'fc' in layer:\n",
    "        biases = trained_weights['{}.bias'.format(layer)].cpu().numpy()\n",
    "        W = [weights.T, biases]\n",
    "    else:\n",
    "        W = [np.moveaxis(weights, [0, 1], [3, 2]), biases] # transpose to (x, y, ch, nf) keras version\n",
    "    k_model.get_layer(layer).set_weights(W)\n",
    "\n",
    "k_model.summary()\n"
   ]
  },
  {
   "cell_type": "code",
   "execution_count": 10,
   "metadata": {},
   "outputs": [
    {
     "name": "stdout",
     "output_type": "stream",
     "text": [
      "max difference: 3.8146973e-06 \n",
      "sum of difffernces: 0.00010803342\n"
     ]
    },
    {
     "data": {
      "image/png": "[encoded data removed]",
      "text/plain": [
       "<Figure size 432x288 with 1 Axes>"
      ]
     },
     "metadata": {
      "needs_background": "light"
     },
     "output_type": "display_data"
    }
   ],
   "source": [
    "\n",
    "\n",
    "#### Verify\n",
    "\n",
    "batch_size = 32\n",
    "\n",
    "keras_input = np.random.random((batch_size, 400, 300, 1)).astype('float32')\n",
    "pytorch_input = torch.from_numpy(keras_input.transpose(0,-1,1,2))\n",
    "\n",
    "p_out = model(pytorch_input.cpu())\n",
    "k_out = k_model.predict(keras_input)\n",
    "\n",
    "y = torch.from_numpy(k_out) - p_out\n",
    "y = y.detach().numpy().flatten()\n",
    "plt.hist(y);\n",
    "print('max difference:', y.max(), '\\nsum of difffernces:', y.sum())"
   ]
  },
  {
   "cell_type": "code",
   "execution_count": null,
   "metadata": {},
   "outputs": [],
   "source": []
  }
 ],
 "metadata": {
  "kernelspec": {
   "display_name": "gpu_ptorch",
   "language": "python",
   "name": "gpu_ptorch"
  },
  "language_info": {
   "codemirror_mode": {
    "name": "ipython",
    "version": 3
   },
   "file_extension": ".py",
   "mimetype": "text/x-python",
   "name": "python",
   "nbconvert_exporter": "python",
   "pygments_lexer": "ipython3",
   "version": "3.6.10"
  }
 },
 "nbformat": 4,
 "nbformat_minor": 2
}
